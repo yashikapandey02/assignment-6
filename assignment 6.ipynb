{
 "cells": [
  {
   "cell_type": "code",
   "execution_count": null,
   "id": "81b0298c",
   "metadata": {},
   "outputs": [],
   "source": [
    "1. What are escape characters, and how do you use them?"
   ]
  },
  {
   "cell_type": "code",
   "execution_count": null,
   "id": "45c19a32",
   "metadata": {},
   "outputs": [],
   "source": [
    "Ans-Characters in strings which are impossible or difficult to type in a code are represented by escape characters.\n",
    "eg- you will get an error in a string if you use double quotes inside a double quote hence we use escape character to avoid this error\n",
    "\"\\yashika\""
   ]
  },
  {
   "cell_type": "code",
   "execution_count": null,
   "id": "08ac4143",
   "metadata": {},
   "outputs": [],
   "source": []
  },
  {
   "cell_type": "code",
   "execution_count": null,
   "id": "a3bd38ac",
   "metadata": {},
   "outputs": [],
   "source": [
    "2. What do the escape characters n and t stand for?"
   ]
  },
  {
   "cell_type": "code",
   "execution_count": null,
   "id": "c516453c",
   "metadata": {},
   "outputs": [],
   "source": [
    "Ans-\\n- end of line\n",
    "\\t- tab"
   ]
  },
  {
   "cell_type": "code",
   "execution_count": null,
   "id": "98a277c7",
   "metadata": {},
   "outputs": [],
   "source": [
    "3. What is the way to include backslash characters in a string?"
   ]
  },
  {
   "cell_type": "code",
   "execution_count": null,
   "id": "eac2b9c0",
   "metadata": {},
   "outputs": [],
   "source": [
    "Ans- If you want to include a backslash character itself, you need two backslashes or use the @ verbatim string:\n",
    "\n",
    "var s = \"\\\\Tasks\";\n",
    "// or \n",
    "var s = @\"\\Tasks\";"
   ]
  },
  {
   "cell_type": "code",
   "execution_count": 1,
   "id": "7e93b685",
   "metadata": {},
   "outputs": [
    {
     "name": "stdout",
     "output_type": "stream",
     "text": [
      "Object `problem` not found.\n"
     ]
    }
   ],
   "source": [
    "4. The string \"Howl's Moving Castle\" is a correct value. Why isn't the single quote character in the word Howl's not escaped a problem?"
   ]
  },
  {
   "cell_type": "code",
   "execution_count": null,
   "id": "93cbcea6",
   "metadata": {},
   "outputs": [],
   "source": [
    "4. The string \"Howl's Moving Castle\" is a correct value. Why isn't the single quote character in the word Howl's not \n",
    "escaped a problem"
   ]
  },
  {
   "cell_type": "code",
   "execution_count": null,
   "id": "4bdead38",
   "metadata": {},
   "outputs": [],
   "source": [
    "Ans-\"Howl's moving castle\" is correct because it is using double quotes to its beginning and end whereas it will show \n",
    "an error if we start and end the string in a single quote for 'howl's'"
   ]
  },
  {
   "cell_type": "code",
   "execution_count": null,
   "id": "5ae8644a",
   "metadata": {},
   "outputs": [],
   "source": [
    "5. How do you write a string of newlines if you don't want to use the n character?"
   ]
  },
  {
   "cell_type": "code",
   "execution_count": null,
   "id": "8d6d5494",
   "metadata": {},
   "outputs": [],
   "source": [
    "Ans-Multiline strings allow you to use newlines in strings without the \\n escape character"
   ]
  },
  {
   "cell_type": "code",
   "execution_count": null,
   "id": "10ab4b11",
   "metadata": {},
   "outputs": [],
   "source": [
    "6. What are the values of the given expressions?\n",
    "'Hello, world!'[1]\n",
    "'Hello, world!'[0:5]\n",
    "'Hello, world!'[:5]\n",
    "'Hello, world!'[3:]\n"
   ]
  },
  {
   "cell_type": "code",
   "execution_count": null,
   "id": "b47fa613",
   "metadata": {},
   "outputs": [],
   "source": [
    "Ans-     'e'\n",
    "\n",
    "        'Hello'\n",
    "\n",
    "         'Hello' \n",
    "\n",
    "        'lo world"
   ]
  },
  {
   "cell_type": "code",
   "execution_count": null,
   "id": "63b04645",
   "metadata": {},
   "outputs": [],
   "source": [
    "7. What are the values of the following expressions?\n",
    "'Hello'.upper()\n",
    "'Hello'.upper().isupper()\n",
    "'Hello'.upper().lower()\n"
   ]
  },
  {
   "cell_type": "code",
   "execution_count": null,
   "id": "cd6fec2c",
   "metadata": {},
   "outputs": [],
   "source": [
    "Ans- 'HELLO'\n",
    "     'True'\n",
    "     'hello'"
   ]
  },
  {
   "cell_type": "code",
   "execution_count": null,
   "id": "716a1dfe",
   "metadata": {},
   "outputs": [],
   "source": [
    "8. What are the values of the following expressions?\n",
    "'Remember, remember, the fifth of July.'.split()\n",
    "'-'.join('There can only one.'.split())\n"
   ]
  },
  {
   "cell_type": "code",
   "execution_count": null,
   "id": "26791319",
   "metadata": {},
   "outputs": [],
   "source": [
    "Ans-['Remember','remember','the','fifth','of','July']\n",
    "      'There-can-only-one'"
   ]
  },
  {
   "cell_type": "code",
   "execution_count": null,
   "id": "a77992f9",
   "metadata": {},
   "outputs": [],
   "source": [
    "9. What are the methods for right-justifying, left-justifying, and centering a string?"
   ]
  },
  {
   "cell_type": "code",
   "execution_count": null,
   "id": "cda452dd",
   "metadata": {},
   "outputs": [],
   "source": [
    "Ans-The rjust(), ljust(), and center() string methods."
   ]
  },
  {
   "cell_type": "code",
   "execution_count": null,
   "id": "39323dd2",
   "metadata": {},
   "outputs": [],
   "source": [
    "10. What is the best way to remove whitespace characters from the start or end?"
   ]
  },
  {
   "cell_type": "code",
   "execution_count": null,
   "id": "062d0147",
   "metadata": {},
   "outputs": [],
   "source": [
    "Ans-.lstrip() remove whitespace and character from the beginning of a string\n",
    "    .rstrip() remove whitespace and character from the end of a string"
   ]
  }
 ],
 "metadata": {
  "kernelspec": {
   "display_name": "Python 3 (ipykernel)",
   "language": "python",
   "name": "python3"
  },
  "language_info": {
   "codemirror_mode": {
    "name": "ipython",
    "version": 3
   },
   "file_extension": ".py",
   "mimetype": "text/x-python",
   "name": "python",
   "nbconvert_exporter": "python",
   "pygments_lexer": "ipython3",
   "version": "3.9.7"
  }
 },
 "nbformat": 4,
 "nbformat_minor": 5
}
